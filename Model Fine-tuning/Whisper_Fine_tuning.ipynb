{
  "cells": [
    {
      "cell_type": "code",
      "execution_count": null,
      "metadata": {
        "id": "e1_3GJIZ8LIV"
      },
      "outputs": [],
      "source": [
        "!nvidia-smi -L"
      ]
    },
    {
      "cell_type": "code",
      "execution_count": null,
      "metadata": {
        "id": "iWMpu1JZ77eH"
      },
      "outputs": [],
      "source": [
        "!pip install transformers --upgrade\n",
        "!pip install datasets\n",
        "!pip install torch\n",
        "!pip install torchtext\n",
        "!add-apt-repository -y ppa: jonathonf/ffmpegia\n",
        "!apt update\n",
        "!apt install -y ffmpeg"
      ]
    },
    {
      "cell_type": "code",
      "execution_count": null,
      "metadata": {
        "id": "h-Jpc-te9ZoZ"
      },
      "outputs": [],
      "source": [
        "!pip install datasets>=2.6.1\n",
        "!pip install git+https://github.com/huggingface/transformers\n",
        "!pip install librosa\n",
        "!pip install evaluate>=0.30\n",
        "!pip install jiwer\n",
        "!pip install pandas"
      ]
    },
    {
      "cell_type": "code",
      "execution_count": null,
      "metadata": {
        "id": "wuKq551NxN8J"
      },
      "outputs": [],
      "source": [
        "!pip install transformers[torch]\n",
        "!pip install accelerate -U\n",
        "!pip install torch -U"
      ]
    },
    {
      "cell_type": "code",
      "execution_count": null,
      "metadata": {
        "id": "kWJKrdnW-aro"
      },
      "outputs": [],
      "source": [
        "from dataclasses import dataclass\n",
        "from typing import List, Optional, Union, Any, Dict, List, Union\n",
        "import torch\n",
        "from google.colab import userdata\n",
        "import pandas as pd"
      ]
    },
    {
      "cell_type": "code",
      "execution_count": null,
      "metadata": {
        "id": "BNyO_vv7-vuv"
      },
      "outputs": [],
      "source": [
        "from huggingface_hub import login\n",
        "\n",
        "access_token_read = userdata.get('HuggingFace')\n",
        "login(token = access_token_read)\n",
        "print(\"Logged into Hugging Face\")"
      ]
    },
    {
      "cell_type": "code",
      "execution_count": null,
      "metadata": {
        "id": "8qsuTuu3Au8R"
      },
      "outputs": [],
      "source": [
        "from google.colab import drive\n",
        "drive.mount('/content/drive')"
      ]
    },
    {
      "cell_type": "markdown",
      "metadata": {},
      "source": [
        "Dataset can be found at: https://drive.google.com/drive/folders/1fHfq0v5f3vgomyWPhVdD9WlDbSqpsREp?usp=sharing\n"
      ]
    },
    {
      "cell_type": "code",
      "execution_count": null,
      "metadata": {
        "id": "McqEDUnv2KC1"
      },
      "outputs": [],
      "source": [
        "import os\n",
        "\n",
        "local_tsv_path = os.chdir('/content/drive/MyDrive/ja')\n",
        "df = pd.read_csv(\"covost_v2.ja_en.tsv\", sep='\\t')"
      ]
    },
    {
      "cell_type": "code",
      "execution_count": null,
      "metadata": {
        "id": "4ppItyZ1R38r"
      },
      "outputs": [],
      "source": [
        "df.head()"
      ]
    },
    {
      "cell_type": "code",
      "execution_count": null,
      "metadata": {
        "id": "6muJUmtSWG7p"
      },
      "outputs": [],
      "source": [
        "from sklearn.model_selection import train_test_split\n",
        "train_df, test_df = train_test_split(df, test_size=0.2, random_state=42)"
      ]
    },
    {
      "cell_type": "code",
      "execution_count": null,
      "metadata": {
        "id": "Wh0Ntp_3BTC7"
      },
      "outputs": [],
      "source": [
        "from datasets import load_dataset, DatasetDict, Dataset\n",
        "\n",
        "common_voice = DatasetDict()\n",
        "\n",
        "common_voice['train'] = Dataset.from_pandas(train_df)\n",
        "common_voice['test'] = Dataset.from_pandas(test_df)\n",
        "\n",
        "common_voice = common_voice.remove_columns([\"split\", '__index_level_0__'])\n",
        "print(common_voice)"
      ]
    },
    {
      "cell_type": "code",
      "execution_count": null,
      "metadata": {
        "id": "hRw3qUSYEgYm"
      },
      "outputs": [],
      "source": [
        "from transformers import WhisperFeatureExtractor\n",
        "from transformers import WhisperTokenizer\n",
        "\n",
        "feature_extractor = WhisperFeatureExtractor.from_pretrained(\"openai/whisper-small\")\n",
        "tokenizer = WhisperTokenizer.from_pretrained(\"openai/whisper-small\", language=\"English\", task=\"transcribe\")"
      ]
    },
    {
      "cell_type": "code",
      "execution_count": null,
      "metadata": {
        "id": "P-Me8fc4TJNx"
      },
      "outputs": [],
      "source": [
        "from transformers import WhisperProcessor\n",
        "\n",
        "processor = WhisperProcessor.from_pretrained(\"openai/whisper-small\", language=\"English\", task=\"transcribe\")"
      ]
    },
    {
      "cell_type": "code",
      "execution_count": null,
      "metadata": {
        "id": "4YnDq-LEdds-"
      },
      "outputs": [],
      "source": [
        "print(f'{common_voice[\"train\"][2]}\\n')"
      ]
    },
    {
      "cell_type": "code",
      "execution_count": null,
      "metadata": {
        "id": "gESsjGIqhrfr"
      },
      "outputs": [],
      "source": [
        "print(os.getcwd())"
      ]
    },
    {
      "cell_type": "code",
      "execution_count": null,
      "metadata": {
        "id": "TyI-SVhdTSrV"
      },
      "outputs": [],
      "source": [
        "import torchaudio\n",
        "from torchaudio.transforms import Resample\n",
        "\n",
        "def resample_audio(audio_path):\n",
        "    waveform, original_sampling_rate = torchaudio.load(audio_path)\n",
        "\n",
        "    resample = Resample(original_sampling_rate, 16000)\n",
        "    resampled_waveform = resample(waveform)\n",
        "\n",
        "    return resampled_waveform.numpy(), 16000\n",
        "\n",
        "def prepare_dataset(batch):\n",
        "    audio_path = \"/content/drive/MyDrive/ja/clips/\" + batch[\"path\"]\n",
        "    resampled_audio, new_sampling_rate = resample_audio(audio_path)\n",
        "\n",
        "    batch[\"audio\"] = {\"array\": resampled_audio, \"sampling_rate\": new_sampling_rate}\n",
        "\n",
        "    batch[\"input_features\"] = feature_extractor(batch[\"audio\"][\"array\"], sampling_rate=batch[\"audio\"][\"sampling_rate\"]).input_features[0]\n",
        "\n",
        "    batch[\"labels\"] = tokenizer(batch[\"translation\"]).input_ids\n",
        "\n",
        "    return batch\n",
        "\n",
        "common_voice = common_voice.map(\n",
        "    prepare_dataset,\n",
        "    num_proc=2\n",
        ")"
      ]
    },
    {
      "cell_type": "code",
      "execution_count": null,
      "metadata": {
        "id": "nircF8SLeNro"
      },
      "outputs": [],
      "source": [
        "common_voice[\"test\"] = common_voice[\"test\"].remove_columns([\"path\"])\n",
        "common_voice[\"train\"] = common_voice[\"train\"].remove_columns([\"path\"])\n",
        "\n",
        "print(common_voice)"
      ]
    },
    {
      "cell_type": "code",
      "execution_count": null,
      "metadata": {
        "id": "ri9fnE6SUm74"
      },
      "outputs": [],
      "source": [
        "from typing import Any, Dict, List, Union\n",
        "import torch\n",
        "from dataclasses import dataclass\n",
        "\n",
        "@dataclass\n",
        "class DataCollatorSpeechSeq2SeqWithPadding:\n",
        "    processor: Any\n",
        "\n",
        "    def __call__(self, features: List[Dict[str, Union[List[int], torch.Tensor]]]) -> Dict[str, torch.Tensor]:\n",
        "        input_features = [{\"input_features\": feature[\"input_features\"]} for feature in features]\n",
        "        batch = self.processor.feature_extractor.pad(input_features, return_tensors=\"pt\")\n",
        "        label_features = [{\"input_ids\": feature[\"labels\"]} for feature in features]\n",
        "        labels_batch = self.processor.tokenizer.pad(label_features, return_tensors=\"pt\")\n",
        "\n",
        "        labels = labels_batch[\"input_ids\"].masked_fill(labels_batch.attention_mask.ne(1), -100)\n",
        "\n",
        "        if (labels[:, 0] == self.processor.tokenizer.bos_token_id).all().cpu().item():\n",
        "            labels = labels[:, 1:]\n",
        "\n",
        "        batch[\"labels\"] = labels\n",
        "\n",
        "        return batch\n",
        "\n",
        "\n",
        "data_collator = DataCollatorSpeechSeq2SeqWithPadding(processor=processor)"
      ]
    },
    {
      "cell_type": "code",
      "execution_count": null,
      "metadata": {
        "id": "c9xyWrCOZnoG"
      },
      "outputs": [],
      "source": [
        "import evaluate\n",
        "\n",
        "metric = evaluate.load(\"wer\")"
      ]
    },
    {
      "cell_type": "code",
      "execution_count": null,
      "metadata": {
        "id": "uyRCdkmcZrNF"
      },
      "outputs": [],
      "source": [
        "from transformers import WhisperForConditionalGeneration\n",
        "\n",
        "model = WhisperForConditionalGeneration.from_pretrained(\"openai/whisper-small\")"
      ]
    },
    {
      "cell_type": "code",
      "execution_count": null,
      "metadata": {
        "id": "V29cKWCRZtyF"
      },
      "outputs": [],
      "source": [
        "model.config.forced_decoder_ids = None\n",
        "model.config.suppress_tokens = []"
      ]
    },
    {
      "cell_type": "code",
      "execution_count": null,
      "metadata": {
        "id": "2tba0t8AaAHS"
      },
      "outputs": [],
      "source": [
        "from transformers import AutoModelForSeq2SeqLM, Seq2SeqTrainingArguments, Seq2SeqTrainer\n",
        "\n",
        "training_args = Seq2SeqTrainingArguments(\n",
        "    output_dir=\"./whisper-small-finetuned-common-voice-en\",\n",
        "    per_device_train_batch_size=16,\n",
        "    gradient_accumulation_steps=2,\n",
        "    learning_rate=1e-5,\n",
        "    warmup_steps=250,\n",
        "    max_steps=(len(common_voice[\"train\"])// 16) * 2,\n",
        "    gradient_checkpointing=True,\n",
        "    fp16=True,\n",
        "    evaluation_strategy=\"steps\",\n",
        "    per_device_eval_batch_size=8,\n",
        "    predict_with_generate=True,\n",
        "    generation_max_length=225,\n",
        "    save_steps=(len(common_voice[\"train\"])//16) * 2,\n",
        "    eval_steps=(len(common_voice[\"train\"])//16) * 2,\n",
        "    logging_steps=5,\n",
        "    report_to=[\"tensorboard\"],\n",
        "    load_best_model_at_end=False,\n",
        "    metric_for_best_model=\"wer\",\n",
        "    greater_is_better=False,\n",
        "    push_to_hub=False,\n",
        "    remove_unused_columns=False,\n",
        ")"
      ]
    },
    {
      "cell_type": "code",
      "execution_count": null,
      "metadata": {
        "id": "2mybYSZxav0j"
      },
      "outputs": [],
      "source": [
        "from transformers import Seq2SeqTrainer\n",
        "\n",
        "def compute_metrics(pred):\n",
        "    pred_ids = pred.predictions\n",
        "    label_ids = pred.label_ids\n",
        "    label_ids[label_ids == -100] = processor.tokenizer.pad_token_id\n",
        "\n",
        "    pred_str = processor.tokenizer.batch_decode(pred_ids, skip_special_tokens=True)\n",
        "    label_str = processor.tokenizer.batch_decode(label_ids, skip_special_tokens=True)\n",
        "\n",
        "    wer = 100 * metric.compute(predictions=pred_str, references=label_str)\n",
        "\n",
        "    return {\"wer\": wer}\n",
        "\n",
        "\n",
        "trainer = Seq2SeqTrainer(\n",
        "    args=training_args,\n",
        "    model=model,\n",
        "    train_dataset=common_voice[\"train\"],\n",
        "    eval_dataset=common_voice[\"test\"],\n",
        "    data_collator=data_collator,\n",
        "    compute_metrics=compute_metrics,\n",
        "    tokenizer=processor.feature_extractor,\n",
        ")\n"
      ]
    },
    {
      "cell_type": "code",
      "execution_count": null,
      "metadata": {
        "id": "NsVh7cT-1UAd"
      },
      "outputs": [],
      "source": [
        "try:\n",
        "    print('Start training...')\n",
        "    trainer.train()\n",
        "    print('Training is finished.')\n",
        "    trainer.save_model(\"./whisper-finetuned-common-voice-ja-en\")\n",
        "    tokenizer = WhisperTokenizer.from_pretrained(\"openai/whisper-small\")\n",
        "    tokenizer.save_pretrained(\"./whisper-finetuned-common-voice-ja-en\")\n",
        "except Exception as e:\n",
        "    print(f'Error during training: {e}')\n"
      ]
    }
  ],
  "metadata": {
    "accelerator": "GPU",
    "colab": {
      "gpuType": "T4",
      "machine_shape": "hm",
      "provenance": []
    },
    "kernelspec": {
      "display_name": "Python 3",
      "name": "python3"
    },
    "language_info": {
      "name": "python"
    }
  },
  "nbformat": 4,
  "nbformat_minor": 0
}
